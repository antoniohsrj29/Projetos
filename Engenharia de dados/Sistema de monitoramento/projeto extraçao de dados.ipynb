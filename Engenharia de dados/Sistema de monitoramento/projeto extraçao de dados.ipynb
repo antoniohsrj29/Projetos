{
  "cells": [
    {
      "cell_type": "code",
      "execution_count": 155,
      "metadata": {
        "colab": {
          "base_uri": "https://localhost:8080/"
        },
        "id": "wx-UiH88u0st",
        "outputId": "a2a56b8b-ba71-4088-8884-6bade0e5d8e3"
      },
      "outputs": [
        {
          "name": "stdout",
          "output_type": "stream",
          "text": [
            "Requirement already satisfied: newsapi-python in /usr/local/lib/python3.10/dist-packages (0.2.7)\n",
            "Requirement already satisfied: requests<3.0.0 in /usr/local/lib/python3.10/dist-packages (from newsapi-python) (2.31.0)\n",
            "Requirement already satisfied: charset-normalizer<4,>=2 in /usr/local/lib/python3.10/dist-packages (from requests<3.0.0->newsapi-python) (3.2.0)\n",
            "Requirement already satisfied: idna<4,>=2.5 in /usr/local/lib/python3.10/dist-packages (from requests<3.0.0->newsapi-python) (3.4)\n",
            "Requirement already satisfied: urllib3<3,>=1.21.1 in /usr/local/lib/python3.10/dist-packages (from requests<3.0.0->newsapi-python) (2.0.5)\n",
            "Requirement already satisfied: certifi>=2017.4.17 in /usr/local/lib/python3.10/dist-packages (from requests<3.0.0->newsapi-python) (2023.7.22)\n",
            "Requirement already satisfied: pyspark in /usr/local/lib/python3.10/dist-packages (3.5.0)\n",
            "Requirement already satisfied: py4j==0.10.9.7 in /usr/local/lib/python3.10/dist-packages (from pyspark) (0.10.9.7)\n"
          ]
        }
      ],
      "source": [
        "!pip install newsapi-python\n",
        "!pip install pyspark"
      ]
    },
    {
      "cell_type": "code",
      "execution_count": 156,
      "metadata": {
        "colab": {
          "base_uri": "https://localhost:8080/"
        },
        "id": "8fl7ZrrJ0kng",
        "outputId": "6f9aead7-0221-4d3b-91b8-a5aa54d06410"
      },
      "outputs": [
        {
          "name": "stdout",
          "output_type": "stream",
          "text": [
            "Requirement already satisfied: pandas in /usr/local/lib/python3.10/dist-packages (1.5.3)\n",
            "Requirement already satisfied: python-dateutil>=2.8.1 in /usr/local/lib/python3.10/dist-packages (from pandas) (2.8.2)\n",
            "Requirement already satisfied: pytz>=2020.1 in /usr/local/lib/python3.10/dist-packages (from pandas) (2023.3.post1)\n",
            "Requirement already satisfied: numpy>=1.21.0 in /usr/local/lib/python3.10/dist-packages (from pandas) (1.23.5)\n",
            "Requirement already satisfied: six>=1.5 in /usr/local/lib/python3.10/dist-packages (from python-dateutil>=2.8.1->pandas) (1.16.0)\n"
          ]
        }
      ],
      "source": [
        "pip install pandas"
      ]
    },
    {
      "cell_type": "code",
      "execution_count": 157,
      "metadata": {
        "id": "JcTyiyRKRlh8"
      },
      "outputs": [],
      "source": [
        "from pyspark.sql import SparkSession\n",
        "from newsapi import NewsApiClient\n",
        "from datetime import datetime, timedelta\n",
        "import time\n",
        "from pyspark.sql.functions import *\n",
        "from pyspark.sql.functions import split\n"
      ]
    },
    {
      "cell_type": "code",
      "execution_count": 158,
      "metadata": {
        "id": "H6P_4RfBX5nt"
      },
      "outputs": [],
      "source": [
        "spark = SparkSession.builder \\\n",
        "    .master('local[*]') \\\n",
        "    .appName('Iniciando com Spark') \\\n",
        "    .config('spark.ui.port', '4050') \\\n",
        "    .getOrCreate()"
      ]
    },
    {
      "cell_type": "code",
      "execution_count": 159,
      "metadata": {
        "id": "5o5FM3cNiwdb"
      },
      "outputs": [],
      "source": [
        "##Mudem para a api_key de vcs please, se não vou ficar sem query rapidinho\n",
        "##não se esqueça!!!!\n",
        "API_KEY = '2d9f239e3c0d477c9726f8b48a20ecaa'\n",
        "\n",
        "# Init\n",
        "newsapi = NewsApiClient(api_key= API_KEY)\n",
        "\n",
        "from_date = datetime.now() -  timedelta(days = 30)\n",
        "\n",
        "WORDS = {\n",
        "    'DNA': {'key_word': 'DNA', 'language': 'en'},\n",
        "    'Ansiedade': {'key_word': 'anxiety', 'language': 'en'},\n",
        "    'ELA': {'key_word': 'ELA', 'language': 'en'},\n",
        "\n",
        "}\n",
        "\n",
        "\n",
        "def fetch_news_data(key_word, language):\n",
        "  params = {\n",
        "        'q': key_word,\n",
        "        'language': 'en',\n",
        "        'from_param': from_date,\n",
        "    }\n",
        "  try:\n",
        "    all_articles = newsapi.get_everything(q=key_word, language=language,from_param =from_date)\n",
        "  except:\n",
        "    return None\n",
        "\n",
        "  if not all_articles['articles']:\n",
        "    return\n",
        "\n",
        "  news_df = spark.createDataFrame(all_articles['articles'])\n",
        "  return news_df\n",
        "\n",
        "def process_and_save_news(news_dataframe, key_word):\n",
        "  news_df = news_dataframe\n",
        "  news_df.dropDuplicates(['url'])\n",
        "  news_df.write.mode(\"append\").parquet(f\"{key_word}_news.parquet\")\n",
        "\n",
        "  print(' --- SALVANDO  ---')\n",
        "\n",
        "\n",
        "\n",
        "def update_news():\n",
        "  while True:\n",
        "    for words in WORDS.values():\n",
        "      data = fetch_news_data(words['key_word'], words['language'])\n",
        "      if data:\n",
        "        process_and_save_news(data, words['key_word'])\n",
        "    time.sleep(300)\n",
        "    print(' ---ATUALIZANDO--- ')\n",
        "\n",
        "\n"
      ]
    },
    {
      "cell_type": "code",
      "execution_count": 160,
      "metadata": {
        "colab": {
          "base_uri": "https://localhost:8080/",
          "height": 364
        },
        "id": "9bVDpZL6bAz6",
        "outputId": "2b8c2e1c-18a1-4582-b8c2-31f0cd321c0b"
      },
      "outputs": [
        {
          "name": "stdout",
          "output_type": "stream",
          "text": [
            " --- SALVANDO  ---\n",
            " --- SALVANDO  ---\n",
            " --- SALVANDO  ---\n"
          ]
        },
        {
          "ename": "KeyboardInterrupt",
          "evalue": "ignored",
          "output_type": "error",
          "traceback": [
            "\u001b[0;31m---------------------------------------------------------------------------\u001b[0m",
            "\u001b[0;31mKeyboardInterrupt\u001b[0m                         Traceback (most recent call last)",
            "\u001b[0;32m<ipython-input-160-bcb3b60383c8>\u001b[0m in \u001b[0;36m<cell line: 1>\u001b[0;34m()\u001b[0m\n\u001b[0;32m----> 1\u001b[0;31m \u001b[0mupdate_news\u001b[0m\u001b[0;34m(\u001b[0m\u001b[0;34m)\u001b[0m\u001b[0;34m\u001b[0m\u001b[0;34m\u001b[0m\u001b[0m\n\u001b[0m",
            "\u001b[0;32m<ipython-input-159-642f22a10337>\u001b[0m in \u001b[0;36mupdate_news\u001b[0;34m()\u001b[0m\n\u001b[1;32m     48\u001b[0m       \u001b[0;32mif\u001b[0m \u001b[0mdata\u001b[0m\u001b[0;34m:\u001b[0m\u001b[0;34m\u001b[0m\u001b[0;34m\u001b[0m\u001b[0m\n\u001b[1;32m     49\u001b[0m         \u001b[0mprocess_and_save_news\u001b[0m\u001b[0;34m(\u001b[0m\u001b[0mdata\u001b[0m\u001b[0;34m,\u001b[0m \u001b[0mwords\u001b[0m\u001b[0;34m[\u001b[0m\u001b[0;34m'key_word'\u001b[0m\u001b[0;34m]\u001b[0m\u001b[0;34m)\u001b[0m\u001b[0;34m\u001b[0m\u001b[0;34m\u001b[0m\u001b[0m\n\u001b[0;32m---> 50\u001b[0;31m     \u001b[0mtime\u001b[0m\u001b[0;34m.\u001b[0m\u001b[0msleep\u001b[0m\u001b[0;34m(\u001b[0m\u001b[0;36m300\u001b[0m\u001b[0;34m)\u001b[0m\u001b[0;34m\u001b[0m\u001b[0;34m\u001b[0m\u001b[0m\n\u001b[0m\u001b[1;32m     51\u001b[0m     \u001b[0mprint\u001b[0m\u001b[0;34m(\u001b[0m\u001b[0;34m' ---ATUALIZANDO--- '\u001b[0m\u001b[0;34m)\u001b[0m\u001b[0;34m\u001b[0m\u001b[0;34m\u001b[0m\u001b[0m\n\u001b[1;32m     52\u001b[0m \u001b[0;34m\u001b[0m\u001b[0m\n",
            "\u001b[0;31mKeyboardInterrupt\u001b[0m: "
          ]
        }
      ],
      "source": [
        "update_news()\n"
      ]
    },
    {
      "cell_type": "code",
      "execution_count": null,
      "metadata": {
        "id": "ow3Z4l4bNUNQ"
      },
      "outputs": [],
      "source": [
        "arquivo = spark.read.parquet('/content/DNA_news.parquet')\n"
      ]
    },
    {
      "cell_type": "code",
      "execution_count": null,
      "metadata": {
        "id": "19Ce6Ikcy8gB"
      },
      "outputs": [],
      "source": [
        "arquivo = arquivo.dropDuplicates(['url'])"
      ]
    },
    {
      "cell_type": "code",
      "execution_count": null,
      "metadata": {
        "colab": {
          "base_uri": "https://localhost:8080/"
        },
        "id": "A8wYuYeC2HZ1",
        "outputId": "27d11fd7-06c1-4ca5-d838-54d33329d4a5"
      },
      "outputs": [
        {
          "data": {
            "text/plain": [
              "100"
            ]
          },
          "execution_count": 135,
          "metadata": {},
          "output_type": "execute_result"
        }
      ],
      "source": [
        "arquivo.count()"
      ]
    },
    {
      "cell_type": "code",
      "execution_count": null,
      "metadata": {
        "id": "AaPzQcayOhrK"
      },
      "outputs": [],
      "source": [
        "arquivo = arquivo.withColumn('source',col('source.name'))"
      ]
    },
    {
      "cell_type": "code",
      "execution_count": null,
      "metadata": {
        "colab": {
          "base_uri": "https://localhost:8080/"
        },
        "id": "3mdgWB5lOqTO",
        "outputId": "8c1ab9f5-ecc7-47a7-8ca7-672e3c2c5f81"
      },
      "outputs": [
        {
          "name": "stdout",
          "output_type": "stream",
          "text": [
            "+--------------------+--------------------+--------------------+--------------------+--------------------+--------------------+--------------------+--------------------+\n",
            "|              author|             content|         description|         publishedAt|              source|               title|                 url|          urlToImage|\n",
            "+--------------------+--------------------+--------------------+--------------------+--------------------+--------------------+--------------------+--------------------+\n",
            "|      Liliana Segura|Charlotte Beattie...|A college balleri...|2023-09-18T11:00:00Z|       The Intercept|DNA Evidence Sent...|http://theinterce...|https://theinterc...|\n",
            "|GERALD IMRAY Asso...|CAPE TOWN, South ...|The South African...|2023-09-05T12:33:02Z|            ABC News|South Africa anno...|https://abcnews.g...|https://s.abcnews...|\n",
            "|SEAN MURPHY Assoc...|McALESTER, Okla. ...|A man convicted o...|2023-09-21T16:21:55Z|            ABC News|Man executed for ...|https://abcnews.g...|https://s.abcnews...|\n",
            "|ANDREW SELSKY Ass...|SALEM, Ore. -- A ...|A man sentenced t...|2023-09-07T01:33:37Z|            ABC News|Oregon man who wa...|https://abcnews.g...|https://i.abcnews...|\n",
            "|The Associated Press|MARQUETTE, Mich. ...|Military scientis...|2023-09-08T18:04:34Z|            ABC News|Remains identifie...|https://abcnews.g...|https://s.abcnews...|\n",
            "|The Associated Press|MORRISTOWN, N.J. ...|The mother of a n...|2023-09-07T21:17:43Z|            ABC News|Woman charged wit...|https://abcnews.g...|https://s.abcnews...|\n",
            "|           abduzeedo|Los Kalakos' Tequ...|Los Kalakos Tequi...|2023-09-13T21:09:25Z|       Abduzeedo.com|Los Kalakos Tequi...|https://abduzeedo...|                NULL|\n",
            "|           Beth Mole|Enlarge/ Katalin ...|Katalin Karikó an...|2023-10-02T19:06:09Z|        Ars Technica|After being demot...|https://arstechni...|https://cdn.arste...|\n",
            "|     Elizabeth Rayne|0 with \\r\\nOn an ...|Variations linked...|2023-09-12T16:57:48Z|        Ars Technica|Genomes could hel...|https://arstechni...|https://cdn.arste...|\n",
            "|      Joshua Hawkins|Google’s AI firm ...|Google’s AI firm ...|2023-09-19T23:43:00Z|                 BGR|Google DeepMind c...|https://bgr.com/t...|https://bgr.com/w...|\n",
            "|         Bioengineer|Bacteroides theta...|Bacteroides theta...|2023-09-14T10:20:13Z|     Bioengineer.org|Microbe Computers...|https://bioengine...|https://i0.wp.com...|\n",
            "|     David Pescovitz|An NOAA Ocean Exp...|An NOAA Ocean Exp...|2023-09-07T19:57:09Z|         Boing Boing|Bizarre golden eg...|https://boingboin...|https://i0.wp.com...|\n",
            "|     David Pescovitz|Researchers at Ch...|Researchers at Ch...|2023-09-21T20:12:18Z|         Boing Boing|Mutant worms engi...|https://boingboin...|https://i0.wp.com...|\n",
            "|       Amanda Hesser|Theres never been...|There’s never bee...|2023-09-13T19:27:21Z|          Food52.com|40 Years Later, T...|https://food52.co...|https://images.fo...|\n",
            "|         Cheryl Eddy|He-Man returns to...|He-Man returns to...|2023-09-27T17:05:00Z|         Gizmodo.com|Masters of the Un...|https://gizmodo.c...|https://i.kinja-i...|\n",
            "|       Isaac Schultz|The last known th...|The last known th...|2023-09-19T18:48:23Z|         Gizmodo.com|Scientists Recove...|https://gizmodo.c...|https://i.kinja-i...|\n",
            "|         Tyler Cowen|Dan Rivera, South...|Dan Rivera, South...|2023-09-27T04:21:23Z|Marginalrevolutio...|Emergent Ventures...|https://marginalr...|https://marginalr...|\n",
            "|                NULL|Read part one of ...|Read part one of ...|2023-09-06T22:55:52Z|      Mindmatters.ai|Artificial Consci...|https://mindmatte...|https://mindmatte...|\n",
            "|              msmash|Jamie Maussan bro...|A journalist and ...|2023-09-13T17:20:00Z|        Slashdot.org|Researcher Shows ...|https://news.slas...|https://a.fsdn.co...|\n",
            "|       STEVE LeBLANC|BOSTON (AP) A 68-...|A 68-year-old man...|2023-09-11T19:30:05Z| Yahoo Entertainment|Man accused of wa...|https://news.yaho...|https://s.yimg.co...|\n",
            "+--------------------+--------------------+--------------------+--------------------+--------------------+--------------------+--------------------+--------------------+\n",
            "only showing top 20 rows\n",
            "\n"
          ]
        }
      ],
      "source": [
        "arquivo.show()"
      ]
    },
    {
      "cell_type": "code",
      "execution_count": null,
      "metadata": {
        "colab": {
          "base_uri": "https://localhost:8080/"
        },
        "id": "7ajEzjOHPGpo",
        "outputId": "50f12e6b-2aaf-4dd8-b5a5-be12f4be2caf"
      },
      "outputs": [
        {
          "name": "stdout",
          "output_type": "stream",
          "text": [
            "+---------------+--------------------+--------------------+--------------------+-----------+--------------------+--------------------+--------------------+\n",
            "|         author|             content|         description|         publishedAt|     source|               title|                 url|          urlToImage|\n",
            "+---------------+--------------------+--------------------+--------------------+-----------+--------------------+--------------------+--------------------+\n",
            "|David Pescovitz|An NOAA Ocean Exp...|An NOAA Ocean Exp...|2023-09-07T19:57:09Z|Boing Boing|Bizarre golden eg...|https://boingboin...|https://i0.wp.com...|\n",
            "|David Pescovitz|Researchers at Ch...|Researchers at Ch...|2023-09-21T20:12:18Z|Boing Boing|Mutant worms engi...|https://boingboin...|https://i0.wp.com...|\n",
            "+---------------+--------------------+--------------------+--------------------+-----------+--------------------+--------------------+--------------------+\n",
            "\n"
          ]
        }
      ],
      "source": [
        "arquivo.where(arquivo.author=='David Pescovitz').show()"
      ]
    },
    {
      "cell_type": "code",
      "execution_count": null,
      "metadata": {
        "id": "rHNsAnfNQ0V5"
      },
      "outputs": [],
      "source": [
        "arquivo = arquivo.withColumn('publishedAt', split(col('publishedAt'),'-'))"
      ]
    },
    {
      "cell_type": "code",
      "execution_count": null,
      "metadata": {
        "colab": {
          "base_uri": "https://localhost:8080/"
        },
        "id": "9MS803H3XtIw",
        "outputId": "34b33b42-2912-4933-d0b2-68d437d05e99"
      },
      "outputs": [
        {
          "name": "stdout",
          "output_type": "stream",
          "text": [
            "+--------------------+--------------------+--------------------+--------------------+--------------------+--------------------+--------------------+--------------------+----+-----+------------+\n",
            "|              author|             content|         description|         publishedAt|              source|               title|                 url|          urlToImage|year|month|         day|\n",
            "+--------------------+--------------------+--------------------+--------------------+--------------------+--------------------+--------------------+--------------------+----+-----+------------+\n",
            "|      Liliana Segura|Charlotte Beattie...|A college balleri...|[2023, 09, 18T11:...|       The Intercept|DNA Evidence Sent...|http://theinterce...|https://theinterc...|2023|   09|18T11:00:00Z|\n",
            "|GERALD IMRAY Asso...|CAPE TOWN, South ...|The South African...|[2023, 09, 05T12:...|            ABC News|South Africa anno...|https://abcnews.g...|https://s.abcnews...|2023|   09|05T12:33:02Z|\n",
            "|SEAN MURPHY Assoc...|McALESTER, Okla. ...|A man convicted o...|[2023, 09, 21T16:...|            ABC News|Man executed for ...|https://abcnews.g...|https://s.abcnews...|2023|   09|21T16:21:55Z|\n",
            "|ANDREW SELSKY Ass...|SALEM, Ore. -- A ...|A man sentenced t...|[2023, 09, 07T01:...|            ABC News|Oregon man who wa...|https://abcnews.g...|https://i.abcnews...|2023|   09|07T01:33:37Z|\n",
            "|The Associated Press|MARQUETTE, Mich. ...|Military scientis...|[2023, 09, 08T18:...|            ABC News|Remains identifie...|https://abcnews.g...|https://s.abcnews...|2023|   09|08T18:04:34Z|\n",
            "|The Associated Press|MORRISTOWN, N.J. ...|The mother of a n...|[2023, 09, 07T21:...|            ABC News|Woman charged wit...|https://abcnews.g...|https://s.abcnews...|2023|   09|07T21:17:43Z|\n",
            "|           abduzeedo|Los Kalakos' Tequ...|Los Kalakos Tequi...|[2023, 09, 13T21:...|       Abduzeedo.com|Los Kalakos Tequi...|https://abduzeedo...|                NULL|2023|   09|13T21:09:25Z|\n",
            "|           Beth Mole|Enlarge/ Katalin ...|Katalin Karikó an...|[2023, 10, 02T19:...|        Ars Technica|After being demot...|https://arstechni...|https://cdn.arste...|2023|   10|02T19:06:09Z|\n",
            "|     Elizabeth Rayne|0 with \\r\\nOn an ...|Variations linked...|[2023, 09, 12T16:...|        Ars Technica|Genomes could hel...|https://arstechni...|https://cdn.arste...|2023|   09|12T16:57:48Z|\n",
            "|      Joshua Hawkins|Google’s AI firm ...|Google’s AI firm ...|[2023, 09, 19T23:...|                 BGR|Google DeepMind c...|https://bgr.com/t...|https://bgr.com/w...|2023|   09|19T23:43:00Z|\n",
            "|         Bioengineer|Bacteroides theta...|Bacteroides theta...|[2023, 09, 14T10:...|     Bioengineer.org|Microbe Computers...|https://bioengine...|https://i0.wp.com...|2023|   09|14T10:20:13Z|\n",
            "|     David Pescovitz|An NOAA Ocean Exp...|An NOAA Ocean Exp...|[2023, 09, 07T19:...|         Boing Boing|Bizarre golden eg...|https://boingboin...|https://i0.wp.com...|2023|   09|07T19:57:09Z|\n",
            "|     David Pescovitz|Researchers at Ch...|Researchers at Ch...|[2023, 09, 21T20:...|         Boing Boing|Mutant worms engi...|https://boingboin...|https://i0.wp.com...|2023|   09|21T20:12:18Z|\n",
            "|       Amanda Hesser|Theres never been...|There’s never bee...|[2023, 09, 13T19:...|          Food52.com|40 Years Later, T...|https://food52.co...|https://images.fo...|2023|   09|13T19:27:21Z|\n",
            "|         Cheryl Eddy|He-Man returns to...|He-Man returns to...|[2023, 09, 27T17:...|         Gizmodo.com|Masters of the Un...|https://gizmodo.c...|https://i.kinja-i...|2023|   09|27T17:05:00Z|\n",
            "|       Isaac Schultz|The last known th...|The last known th...|[2023, 09, 19T18:...|         Gizmodo.com|Scientists Recove...|https://gizmodo.c...|https://i.kinja-i...|2023|   09|19T18:48:23Z|\n",
            "|         Tyler Cowen|Dan Rivera, South...|Dan Rivera, South...|[2023, 09, 27T04:...|Marginalrevolutio...|Emergent Ventures...|https://marginalr...|https://marginalr...|2023|   09|27T04:21:23Z|\n",
            "|                NULL|Read part one of ...|Read part one of ...|[2023, 09, 06T22:...|      Mindmatters.ai|Artificial Consci...|https://mindmatte...|https://mindmatte...|2023|   09|06T22:55:52Z|\n",
            "|              msmash|Jamie Maussan bro...|A journalist and ...|[2023, 09, 13T17:...|        Slashdot.org|Researcher Shows ...|https://news.slas...|https://a.fsdn.co...|2023|   09|13T17:20:00Z|\n",
            "|       STEVE LeBLANC|BOSTON (AP) A 68-...|A 68-year-old man...|[2023, 09, 11T19:...| Yahoo Entertainment|Man accused of wa...|https://news.yaho...|https://s.yimg.co...|2023|   09|11T19:30:05Z|\n",
            "+--------------------+--------------------+--------------------+--------------------+--------------------+--------------------+--------------------+--------------------+----+-----+------------+\n",
            "only showing top 20 rows\n",
            "\n"
          ]
        }
      ],
      "source": [
        "arquivo = arquivo.withColumn('year', col('publishedAt')[0])\n",
        "arquivo = arquivo.withColumn('month', col('publishedAt')[1])\n",
        "arquivo = arquivo.withColumn('day', col('publishedAt')[2])\n",
        "arquivo.show()"
      ]
    },
    {
      "cell_type": "code",
      "execution_count": null,
      "metadata": {
        "id": "2C4PO7PH4REX"
      },
      "outputs": [],
      "source": [
        "arquivo = arquivo.withColumn('day', split(col('day'),'T'))"
      ]
    },
    {
      "cell_type": "code",
      "execution_count": null,
      "metadata": {
        "colab": {
          "base_uri": "https://localhost:8080/"
        },
        "id": "Hr1B0do24VJA",
        "outputId": "012d4b73-ac6f-4e46-bb7f-44890140a513"
      },
      "outputs": [
        {
          "name": "stdout",
          "output_type": "stream",
          "text": [
            "+--------------------+--------------------+---+-----+----+--------------------+--------------------+--------------------+--------------------+--------------------+\n",
            "|               title|              author|day|month|year|             content|         description|              source|                 url|          urlToImage|\n",
            "+--------------------+--------------------+---+-----+----+--------------------+--------------------+--------------------+--------------------+--------------------+\n",
            "|DNA Evidence Sent...|      Liliana Segura| 18|   09|2023|Charlotte Beattie...|A college balleri...|       The Intercept|http://theinterce...|https://theinterc...|\n",
            "|South Africa anno...|GERALD IMRAY Asso...| 05|   09|2023|CAPE TOWN, South ...|The South African...|            ABC News|https://abcnews.g...|https://s.abcnews...|\n",
            "|Man executed for ...|SEAN MURPHY Assoc...| 21|   09|2023|McALESTER, Okla. ...|A man convicted o...|            ABC News|https://abcnews.g...|https://s.abcnews...|\n",
            "|Oregon man who wa...|ANDREW SELSKY Ass...| 07|   09|2023|SALEM, Ore. -- A ...|A man sentenced t...|            ABC News|https://abcnews.g...|https://i.abcnews...|\n",
            "|Remains identifie...|The Associated Press| 08|   09|2023|MARQUETTE, Mich. ...|Military scientis...|            ABC News|https://abcnews.g...|https://s.abcnews...|\n",
            "|Woman charged wit...|The Associated Press| 07|   09|2023|MORRISTOWN, N.J. ...|The mother of a n...|            ABC News|https://abcnews.g...|https://s.abcnews...|\n",
            "|Los Kalakos Tequi...|           abduzeedo| 13|   09|2023|Los Kalakos' Tequ...|Los Kalakos Tequi...|       Abduzeedo.com|https://abduzeedo...|                NULL|\n",
            "|After being demot...|           Beth Mole| 02|   10|2023|Enlarge/ Katalin ...|Katalin Karikó an...|        Ars Technica|https://arstechni...|https://cdn.arste...|\n",
            "|Genomes could hel...|     Elizabeth Rayne| 12|   09|2023|0 with \\r\\nOn an ...|Variations linked...|        Ars Technica|https://arstechni...|https://cdn.arste...|\n",
            "|Google DeepMind c...|      Joshua Hawkins| 19|   09|2023|Google’s AI firm ...|Google’s AI firm ...|                 BGR|https://bgr.com/t...|https://bgr.com/w...|\n",
            "|Microbe Computers...|         Bioengineer| 14|   09|2023|Bacteroides theta...|Bacteroides theta...|     Bioengineer.org|https://bioengine...|https://i0.wp.com...|\n",
            "|Bizarre golden eg...|     David Pescovitz| 07|   09|2023|An NOAA Ocean Exp...|An NOAA Ocean Exp...|         Boing Boing|https://boingboin...|https://i0.wp.com...|\n",
            "|Mutant worms engi...|     David Pescovitz| 21|   09|2023|Researchers at Ch...|Researchers at Ch...|         Boing Boing|https://boingboin...|https://i0.wp.com...|\n",
            "|40 Years Later, T...|       Amanda Hesser| 13|   09|2023|Theres never been...|There’s never bee...|          Food52.com|https://food52.co...|https://images.fo...|\n",
            "|Masters of the Un...|         Cheryl Eddy| 27|   09|2023|He-Man returns to...|He-Man returns to...|         Gizmodo.com|https://gizmodo.c...|https://i.kinja-i...|\n",
            "|Scientists Recove...|       Isaac Schultz| 19|   09|2023|The last known th...|The last known th...|         Gizmodo.com|https://gizmodo.c...|https://i.kinja-i...|\n",
            "|Emergent Ventures...|         Tyler Cowen| 27|   09|2023|Dan Rivera, South...|Dan Rivera, South...|Marginalrevolutio...|https://marginalr...|https://marginalr...|\n",
            "|Artificial Consci...|                NULL| 06|   09|2023|Read part one of ...|Read part one of ...|      Mindmatters.ai|https://mindmatte...|https://mindmatte...|\n",
            "|Researcher Shows ...|              msmash| 13|   09|2023|Jamie Maussan bro...|A journalist and ...|        Slashdot.org|https://news.slas...|https://a.fsdn.co...|\n",
            "|Man accused of wa...|       STEVE LeBLANC| 11|   09|2023|BOSTON (AP) A 68-...|A 68-year-old man...| Yahoo Entertainment|https://news.yaho...|https://s.yimg.co...|\n",
            "+--------------------+--------------------+---+-----+----+--------------------+--------------------+--------------------+--------------------+--------------------+\n",
            "only showing top 20 rows\n",
            "\n"
          ]
        }
      ],
      "source": [
        "#arquivo = arquivo.withColumn('time', col('day')[1])\n",
        "arquivo = arquivo.withColumn('day', col('day')[0])\n",
        "arquivo = arquivo.drop('publishedAT').select(['title','author','day','month','year','content','description','source','url','urlToImage'])\n",
        "arquivo.show()"
      ]
    },
    {
      "cell_type": "code",
      "execution_count": null,
      "metadata": {
        "colab": {
          "base_uri": "https://localhost:8080/"
        },
        "id": "ByVBWBmrYGrc",
        "outputId": "318539fe-28ea-4b10-892a-0057c4fa49e1"
      },
      "outputs": [
        {
          "name": "stdout",
          "output_type": "stream",
          "text": [
            "+--------------------+--------------------+---+-----+----+--------------------+--------------------+----------------+--------------------+--------------------+\n",
            "|               title|              author|day|month|year|             content|         description|          source|                 url|          urlToImage|\n",
            "+--------------------+--------------------+---+-----+----+--------------------+--------------------+----------------+--------------------+--------------------+\n",
            "|Oregon man who wa...|ANDREW SELSKY Ass...| 07|   09|2023|SALEM, Ore. -- A ...|A man sentenced t...|        ABC News|https://abcnews.g...|https://i.abcnews...|\n",
            "|Woman charged wit...|The Associated Press| 07|   09|2023|MORRISTOWN, N.J. ...|The mother of a n...|        ABC News|https://abcnews.g...|https://s.abcnews...|\n",
            "|Bizarre golden eg...|     David Pescovitz| 07|   09|2023|An NOAA Ocean Exp...|An NOAA Ocean Exp...|     Boing Boing|https://boingboin...|https://i0.wp.com...|\n",
            "|DNA analyses show...|           Science X| 07|   09|2023|Between 1840 and ...|Between 1840 and ...|        Phys.Org|https://phys.org/...|https://scx2.b-cd...|\n",
            "|Police Arrest Sus...|     Charlotte Alter| 07|   09|2023|Police in Clarksd...|Police in Clarksd...|            Time|https://time.com/...|https://api.time....|\n",
            "|Ocean explorers f...|       Jenny McGrath| 07|   09|2023|The golden orb wa...|Marine scientists...|Business Insider|https://www.busin...|https://i.insider...|\n",
            "|Genetic study of ...|                NULL| 07|   09|2023|Groundbreaking re...|Researchers revea...|   Science Daily|https://www.scien...|https://www.scien...|\n",
            "|St Helena's 'libe...|                NULL| 07|   09|2023|Between 1840 and ...|Between 1840 and ...|   Science Daily|https://www.scien...|https://www.scien...|\n",
            "|Dog diversity unv...|                NULL| 07|   09|2023|An international ...|An international ...|   Science Daily|https://www.scien...|https://www.scien...|\n",
            "+--------------------+--------------------+---+-----+----+--------------------+--------------------+----------------+--------------------+--------------------+\n",
            "\n"
          ]
        }
      ],
      "source": [
        "arquivo.where(arquivo.day=='07').show()\n"
      ]
    },
    {
      "cell_type": "code",
      "execution_count": null,
      "metadata": {
        "id": "ML8dROur6nVr"
      },
      "outputs": [],
      "source": [
        "from collections import Counter"
      ]
    },
    {
      "cell_type": "code",
      "execution_count": null,
      "metadata": {
        "id": "DK77QBbZ8Cec"
      },
      "outputs": [],
      "source": [
        "day = arquivo.groupBy('day').agg(count(col('url')).alias('Contagem'))\n",
        "month = arquivo.groupBy('month').agg(count(col('url')).alias('Contagem'))\n",
        "author = arquivo.groupBy('author').agg(count(col('url')).alias('Contagem'))\n",
        "source = arquivo.groupBy('source').agg(count(col('url')).alias('Contagem'))"
      ]
    },
    {
      "cell_type": "code",
      "execution_count": null,
      "metadata": {
        "colab": {
          "base_uri": "https://localhost:8080/"
        },
        "id": "gex6q8C78fMz",
        "outputId": "f0721a46-37ec-4e48-a0e4-7802246ae0e3"
      },
      "outputs": [
        {
          "name": "stdout",
          "output_type": "stream",
          "text": [
            "+---+--------+\n",
            "|day|Contagem|\n",
            "+---+--------+\n",
            "| 07|       9|\n",
            "| 13|       9|\n",
            "| 27|       8|\n",
            "| 19|       7|\n",
            "| 02|       7|\n",
            "+---+--------+\n",
            "only showing top 5 rows\n",
            "\n"
          ]
        }
      ],
      "source": [
        "day.sort(['Contagem'],ascending = False).show(5)"
      ]
    },
    {
      "cell_type": "code",
      "execution_count": null,
      "metadata": {
        "colab": {
          "base_uri": "https://localhost:8080/"
        },
        "id": "Z5wOGJ7m-k-7",
        "outputId": "ffb58e7b-3101-4380-f422-ff655d470a5f"
      },
      "outputs": [
        {
          "name": "stdout",
          "output_type": "stream",
          "text": [
            "+-----+--------+\n",
            "|month|Contagem|\n",
            "+-----+--------+\n",
            "|   09|      89|\n",
            "|   10|      10|\n",
            "|   01|       1|\n",
            "+-----+--------+\n",
            "\n"
          ]
        }
      ],
      "source": [
        "month.sort(['Contagem'],ascending = False).show(5)"
      ]
    },
    {
      "cell_type": "code",
      "execution_count": null,
      "metadata": {
        "colab": {
          "base_uri": "https://localhost:8080/"
        },
        "id": "frxVc0_gATGc",
        "outputId": "195f3bb0-1a6c-4d40-d2e6-884015da85d3"
      },
      "outputs": [
        {
          "name": "stdout",
          "output_type": "stream",
          "text": [
            "+--------------------+--------+\n",
            "|              author|Contagem|\n",
            "+--------------------+--------+\n",
            "|                NULL|      19|\n",
            "|           Science X|      10|\n",
            "|The Associated Press|       3|\n",
            "|https://www.faceb...|       3|\n",
            "|    Andrew Tarantola|       2|\n",
            "+--------------------+--------+\n",
            "only showing top 5 rows\n",
            "\n"
          ]
        }
      ],
      "source": [
        "author.sort(['Contagem'],ascending = False).show(5)"
      ]
    },
    {
      "cell_type": "code",
      "execution_count": null,
      "metadata": {
        "colab": {
          "base_uri": "https://localhost:8080/"
        },
        "id": "soXAvrs_Aica",
        "outputId": "6a311c4d-0106-4e17-868d-39121f73e66f"
      },
      "outputs": [
        {
          "name": "stdout",
          "output_type": "stream",
          "text": [
            "+----------------+--------+\n",
            "|          source|Contagem|\n",
            "+----------------+--------+\n",
            "|        Phys.Org|      19|\n",
            "|   Science Daily|      12|\n",
            "|        BBC News|       6|\n",
            "|        ABC News|       5|\n",
            "|Business Insider|       4|\n",
            "+----------------+--------+\n",
            "only showing top 5 rows\n",
            "\n"
          ]
        }
      ],
      "source": [
        "source.sort(['Contagem'],ascending = False).show(5)"
      ]
    },
    {
      "cell_type": "code",
      "execution_count": null,
      "metadata": {
        "id": "KIxDNlM7Vzmw"
      },
      "outputs": [],
      "source": [
        "import pandas as pd"
      ]
    },
    {
      "cell_type": "code",
      "execution_count": null,
      "metadata": {
        "colab": {
          "base_uri": "https://localhost:8080/",
          "height": 623
        },
        "id": "uTMmb4w6V2kR",
        "outputId": "5ddbb90f-4aa4-42ad-806a-cae9f257900b"
      },
      "outputs": [
        {
          "data": {
            "text/html": [
              "\n",
              "  <div id=\"df-49d9efb9-9063-4f80-b27f-695fc3aae433\" class=\"colab-df-container\">\n",
              "    <div>\n",
              "<style scoped>\n",
              "    .dataframe tbody tr th:only-of-type {\n",
              "        vertical-align: middle;\n",
              "    }\n",
              "\n",
              "    .dataframe tbody tr th {\n",
              "        vertical-align: top;\n",
              "    }\n",
              "\n",
              "    .dataframe thead th {\n",
              "        text-align: right;\n",
              "    }\n",
              "</style>\n",
              "<table border=\"1\" class=\"dataframe\">\n",
              "  <thead>\n",
              "    <tr style=\"text-align: right;\">\n",
              "      <th></th>\n",
              "      <th>title</th>\n",
              "      <th>author</th>\n",
              "      <th>day</th>\n",
              "      <th>month</th>\n",
              "      <th>year</th>\n",
              "      <th>content</th>\n",
              "      <th>description</th>\n",
              "      <th>source</th>\n",
              "      <th>url</th>\n",
              "      <th>urlToImage</th>\n",
              "    </tr>\n",
              "  </thead>\n",
              "  <tbody>\n",
              "    <tr>\n",
              "      <th>0</th>\n",
              "      <td>DNA Evidence Sent Anthony Sanchez to Death Row...</td>\n",
              "      <td>Liliana Segura</td>\n",
              "      <td>18</td>\n",
              "      <td>09</td>\n",
              "      <td>2023</td>\n",
              "      <td>Charlotte Beattie couldnt\\r\\n say when she beg...</td>\n",
              "      <td>A college ballerina was raped and murdered in ...</td>\n",
              "      <td>The Intercept</td>\n",
              "      <td>http://theintercept.com/2023/09/18/oklahoma-ex...</td>\n",
              "      <td>https://theintercept.com/wp-content/uploads/20...</td>\n",
              "    </tr>\n",
              "    <tr>\n",
              "      <th>1</th>\n",
              "      <td>South Africa announces official inquiry into d...</td>\n",
              "      <td>GERALD IMRAY Associated Press</td>\n",
              "      <td>05</td>\n",
              "      <td>09</td>\n",
              "      <td>2023</td>\n",
              "      <td>CAPE TOWN, South Africa -- A retired Constitut...</td>\n",
              "      <td>The South African government says a retired ju...</td>\n",
              "      <td>ABC News</td>\n",
              "      <td>https://abcnews.go.com/International/wireStory...</td>\n",
              "      <td>https://s.abcnews.com/images/International/wir...</td>\n",
              "    </tr>\n",
              "    <tr>\n",
              "      <th>2</th>\n",
              "      <td>Man executed for the 1996 killing of a Univers...</td>\n",
              "      <td>SEAN MURPHY Associated Press</td>\n",
              "      <td>21</td>\n",
              "      <td>09</td>\n",
              "      <td>2023</td>\n",
              "      <td>McALESTER, Okla. -- Oklahoma executed an inmat...</td>\n",
              "      <td>A man convicted of the 1996 killing of a Unive...</td>\n",
              "      <td>ABC News</td>\n",
              "      <td>https://abcnews.go.com/US/wireStory/man-set-ex...</td>\n",
              "      <td>https://s.abcnews.com/images/US/abc_news_defau...</td>\n",
              "    </tr>\n",
              "    <tr>\n",
              "      <th>3</th>\n",
              "      <td>Oregon man who was sentenced to death is free ...</td>\n",
              "      <td>ANDREW SELSKY Associated Press</td>\n",
              "      <td>07</td>\n",
              "      <td>09</td>\n",
              "      <td>2023</td>\n",
              "      <td>SALEM, Ore. -- A man sentenced to death for a ...</td>\n",
              "      <td>A man sentenced to death for a 1998 murder is ...</td>\n",
              "      <td>ABC News</td>\n",
              "      <td>https://abcnews.go.com/US/wireStory/oregon-man...</td>\n",
              "      <td>https://i.abcnewsfe.com/a/3f18ab0e-36b3-4251-a...</td>\n",
              "    </tr>\n",
              "    <tr>\n",
              "      <th>4</th>\n",
              "      <td>Remains identified of airman who died in crash...</td>\n",
              "      <td>The Associated Press</td>\n",
              "      <td>08</td>\n",
              "      <td>09</td>\n",
              "      <td>2023</td>\n",
              "      <td>MARQUETTE, Mich. -- Military scientists have i...</td>\n",
              "      <td>Military scientists have identified the remain...</td>\n",
              "      <td>ABC News</td>\n",
              "      <td>https://abcnews.go.com/US/wireStory/remains-id...</td>\n",
              "      <td>https://s.abcnews.com/images/US/abc_news_defau...</td>\n",
              "    </tr>\n",
              "  </tbody>\n",
              "</table>\n",
              "</div>\n",
              "    <div class=\"colab-df-buttons\">\n",
              "\n",
              "  <div class=\"colab-df-container\">\n",
              "    <button class=\"colab-df-convert\" onclick=\"convertToInteractive('df-49d9efb9-9063-4f80-b27f-695fc3aae433')\"\n",
              "            title=\"Convert this dataframe to an interactive table.\"\n",
              "            style=\"display:none;\">\n",
              "\n",
              "  <svg xmlns=\"http://www.w3.org/2000/svg\" height=\"24px\" viewBox=\"0 -960 960 960\">\n",
              "    <path d=\"M120-120v-720h720v720H120Zm60-500h600v-160H180v160Zm220 220h160v-160H400v160Zm0 220h160v-160H400v160ZM180-400h160v-160H180v160Zm440 0h160v-160H620v160ZM180-180h160v-160H180v160Zm440 0h160v-160H620v160Z\"/>\n",
              "  </svg>\n",
              "    </button>\n",
              "\n",
              "  <style>\n",
              "    .colab-df-container {\n",
              "      display:flex;\n",
              "      gap: 12px;\n",
              "    }\n",
              "\n",
              "    .colab-df-convert {\n",
              "      background-color: #E8F0FE;\n",
              "      border: none;\n",
              "      border-radius: 50%;\n",
              "      cursor: pointer;\n",
              "      display: none;\n",
              "      fill: #1967D2;\n",
              "      height: 32px;\n",
              "      padding: 0 0 0 0;\n",
              "      width: 32px;\n",
              "    }\n",
              "\n",
              "    .colab-df-convert:hover {\n",
              "      background-color: #E2EBFA;\n",
              "      box-shadow: 0px 1px 2px rgba(60, 64, 67, 0.3), 0px 1px 3px 1px rgba(60, 64, 67, 0.15);\n",
              "      fill: #174EA6;\n",
              "    }\n",
              "\n",
              "    .colab-df-buttons div {\n",
              "      margin-bottom: 4px;\n",
              "    }\n",
              "\n",
              "    [theme=dark] .colab-df-convert {\n",
              "      background-color: #3B4455;\n",
              "      fill: #D2E3FC;\n",
              "    }\n",
              "\n",
              "    [theme=dark] .colab-df-convert:hover {\n",
              "      background-color: #434B5C;\n",
              "      box-shadow: 0px 1px 3px 1px rgba(0, 0, 0, 0.15);\n",
              "      filter: drop-shadow(0px 1px 2px rgba(0, 0, 0, 0.3));\n",
              "      fill: #FFFFFF;\n",
              "    }\n",
              "  </style>\n",
              "\n",
              "    <script>\n",
              "      const buttonEl =\n",
              "        document.querySelector('#df-49d9efb9-9063-4f80-b27f-695fc3aae433 button.colab-df-convert');\n",
              "      buttonEl.style.display =\n",
              "        google.colab.kernel.accessAllowed ? 'block' : 'none';\n",
              "\n",
              "      async function convertToInteractive(key) {\n",
              "        const element = document.querySelector('#df-49d9efb9-9063-4f80-b27f-695fc3aae433');\n",
              "        const dataTable =\n",
              "          await google.colab.kernel.invokeFunction('convertToInteractive',\n",
              "                                                    [key], {});\n",
              "        if (!dataTable) return;\n",
              "\n",
              "        const docLinkHtml = 'Like what you see? Visit the ' +\n",
              "          '<a target=\"_blank\" href=https://colab.research.google.com/notebooks/data_table.ipynb>data table notebook</a>'\n",
              "          + ' to learn more about interactive tables.';\n",
              "        element.innerHTML = '';\n",
              "        dataTable['output_type'] = 'display_data';\n",
              "        await google.colab.output.renderOutput(dataTable, element);\n",
              "        const docLink = document.createElement('div');\n",
              "        docLink.innerHTML = docLinkHtml;\n",
              "        element.appendChild(docLink);\n",
              "      }\n",
              "    </script>\n",
              "  </div>\n",
              "\n",
              "\n",
              "<div id=\"df-13a13f2a-fd4d-4eb2-a942-a0cd01ed6f3e\">\n",
              "  <button class=\"colab-df-quickchart\" onclick=\"quickchart('df-13a13f2a-fd4d-4eb2-a942-a0cd01ed6f3e')\"\n",
              "            title=\"Suggest charts.\"\n",
              "            style=\"display:none;\">\n",
              "\n",
              "<svg xmlns=\"http://www.w3.org/2000/svg\" height=\"24px\"viewBox=\"0 0 24 24\"\n",
              "     width=\"24px\">\n",
              "    <g>\n",
              "        <path d=\"M19 3H5c-1.1 0-2 .9-2 2v14c0 1.1.9 2 2 2h14c1.1 0 2-.9 2-2V5c0-1.1-.9-2-2-2zM9 17H7v-7h2v7zm4 0h-2V7h2v10zm4 0h-2v-4h2v4z\"/>\n",
              "    </g>\n",
              "</svg>\n",
              "  </button>\n",
              "\n",
              "<style>\n",
              "  .colab-df-quickchart {\n",
              "      --bg-color: #E8F0FE;\n",
              "      --fill-color: #1967D2;\n",
              "      --hover-bg-color: #E2EBFA;\n",
              "      --hover-fill-color: #174EA6;\n",
              "      --disabled-fill-color: #AAA;\n",
              "      --disabled-bg-color: #DDD;\n",
              "  }\n",
              "\n",
              "  [theme=dark] .colab-df-quickchart {\n",
              "      --bg-color: #3B4455;\n",
              "      --fill-color: #D2E3FC;\n",
              "      --hover-bg-color: #434B5C;\n",
              "      --hover-fill-color: #FFFFFF;\n",
              "      --disabled-bg-color: #3B4455;\n",
              "      --disabled-fill-color: #666;\n",
              "  }\n",
              "\n",
              "  .colab-df-quickchart {\n",
              "    background-color: var(--bg-color);\n",
              "    border: none;\n",
              "    border-radius: 50%;\n",
              "    cursor: pointer;\n",
              "    display: none;\n",
              "    fill: var(--fill-color);\n",
              "    height: 32px;\n",
              "    padding: 0;\n",
              "    width: 32px;\n",
              "  }\n",
              "\n",
              "  .colab-df-quickchart:hover {\n",
              "    background-color: var(--hover-bg-color);\n",
              "    box-shadow: 0 1px 2px rgba(60, 64, 67, 0.3), 0 1px 3px 1px rgba(60, 64, 67, 0.15);\n",
              "    fill: var(--button-hover-fill-color);\n",
              "  }\n",
              "\n",
              "  .colab-df-quickchart-complete:disabled,\n",
              "  .colab-df-quickchart-complete:disabled:hover {\n",
              "    background-color: var(--disabled-bg-color);\n",
              "    fill: var(--disabled-fill-color);\n",
              "    box-shadow: none;\n",
              "  }\n",
              "\n",
              "  .colab-df-spinner {\n",
              "    border: 2px solid var(--fill-color);\n",
              "    border-color: transparent;\n",
              "    border-bottom-color: var(--fill-color);\n",
              "    animation:\n",
              "      spin 1s steps(1) infinite;\n",
              "  }\n",
              "\n",
              "  @keyframes spin {\n",
              "    0% {\n",
              "      border-color: transparent;\n",
              "      border-bottom-color: var(--fill-color);\n",
              "      border-left-color: var(--fill-color);\n",
              "    }\n",
              "    20% {\n",
              "      border-color: transparent;\n",
              "      border-left-color: var(--fill-color);\n",
              "      border-top-color: var(--fill-color);\n",
              "    }\n",
              "    30% {\n",
              "      border-color: transparent;\n",
              "      border-left-color: var(--fill-color);\n",
              "      border-top-color: var(--fill-color);\n",
              "      border-right-color: var(--fill-color);\n",
              "    }\n",
              "    40% {\n",
              "      border-color: transparent;\n",
              "      border-right-color: var(--fill-color);\n",
              "      border-top-color: var(--fill-color);\n",
              "    }\n",
              "    60% {\n",
              "      border-color: transparent;\n",
              "      border-right-color: var(--fill-color);\n",
              "    }\n",
              "    80% {\n",
              "      border-color: transparent;\n",
              "      border-right-color: var(--fill-color);\n",
              "      border-bottom-color: var(--fill-color);\n",
              "    }\n",
              "    90% {\n",
              "      border-color: transparent;\n",
              "      border-bottom-color: var(--fill-color);\n",
              "    }\n",
              "  }\n",
              "</style>\n",
              "\n",
              "  <script>\n",
              "    async function quickchart(key) {\n",
              "      const quickchartButtonEl =\n",
              "        document.querySelector('#' + key + ' button');\n",
              "      quickchartButtonEl.disabled = true;  // To prevent multiple clicks.\n",
              "      quickchartButtonEl.classList.add('colab-df-spinner');\n",
              "      try {\n",
              "        const charts = await google.colab.kernel.invokeFunction(\n",
              "            'suggestCharts', [key], {});\n",
              "      } catch (error) {\n",
              "        console.error('Error during call to suggestCharts:', error);\n",
              "      }\n",
              "      quickchartButtonEl.classList.remove('colab-df-spinner');\n",
              "      quickchartButtonEl.classList.add('colab-df-quickchart-complete');\n",
              "    }\n",
              "    (() => {\n",
              "      let quickchartButtonEl =\n",
              "        document.querySelector('#df-13a13f2a-fd4d-4eb2-a942-a0cd01ed6f3e button');\n",
              "      quickchartButtonEl.style.display =\n",
              "        google.colab.kernel.accessAllowed ? 'block' : 'none';\n",
              "    })();\n",
              "  </script>\n",
              "</div>\n",
              "    </div>\n",
              "  </div>\n"
            ],
            "text/plain": [
              "                                               title  \\\n",
              "0  DNA Evidence Sent Anthony Sanchez to Death Row...   \n",
              "1  South Africa announces official inquiry into d...   \n",
              "2  Man executed for the 1996 killing of a Univers...   \n",
              "3  Oregon man who was sentenced to death is free ...   \n",
              "4  Remains identified of airman who died in crash...   \n",
              "\n",
              "                           author day month  year  \\\n",
              "0                  Liliana Segura  18    09  2023   \n",
              "1   GERALD IMRAY Associated Press  05    09  2023   \n",
              "2    SEAN MURPHY Associated Press  21    09  2023   \n",
              "3  ANDREW SELSKY Associated Press  07    09  2023   \n",
              "4            The Associated Press  08    09  2023   \n",
              "\n",
              "                                             content  \\\n",
              "0  Charlotte Beattie couldnt\\r\\n say when she beg...   \n",
              "1  CAPE TOWN, South Africa -- A retired Constitut...   \n",
              "2  McALESTER, Okla. -- Oklahoma executed an inmat...   \n",
              "3  SALEM, Ore. -- A man sentenced to death for a ...   \n",
              "4  MARQUETTE, Mich. -- Military scientists have i...   \n",
              "\n",
              "                                         description         source  \\\n",
              "0  A college ballerina was raped and murdered in ...  The Intercept   \n",
              "1  The South African government says a retired ju...       ABC News   \n",
              "2  A man convicted of the 1996 killing of a Unive...       ABC News   \n",
              "3  A man sentenced to death for a 1998 murder is ...       ABC News   \n",
              "4  Military scientists have identified the remain...       ABC News   \n",
              "\n",
              "                                                 url  \\\n",
              "0  http://theintercept.com/2023/09/18/oklahoma-ex...   \n",
              "1  https://abcnews.go.com/International/wireStory...   \n",
              "2  https://abcnews.go.com/US/wireStory/man-set-ex...   \n",
              "3  https://abcnews.go.com/US/wireStory/oregon-man...   \n",
              "4  https://abcnews.go.com/US/wireStory/remains-id...   \n",
              "\n",
              "                                          urlToImage  \n",
              "0  https://theintercept.com/wp-content/uploads/20...  \n",
              "1  https://s.abcnews.com/images/International/wir...  \n",
              "2  https://s.abcnews.com/images/US/abc_news_defau...  \n",
              "3  https://i.abcnewsfe.com/a/3f18ab0e-36b3-4251-a...  \n",
              "4  https://s.abcnews.com/images/US/abc_news_defau...  "
            ]
          },
          "execution_count": 151,
          "metadata": {},
          "output_type": "execute_result"
        }
      ],
      "source": [
        "arquivo_pd = arquivo.toPandas()\n",
        "arquivo_pd.head(5)"
      ]
    },
    {
      "cell_type": "code",
      "execution_count": null,
      "metadata": {
        "colab": {
          "base_uri": "https://localhost:8080/"
        },
        "id": "xbMPdXFSYT6r",
        "outputId": "856e37a0-66cd-485b-ccd9-200d3a7e12e3"
      },
      "outputs": [
        {
          "data": {
            "text/plain": [
              "['title',\n",
              " 'author',\n",
              " 'day',\n",
              " 'month',\n",
              " 'year',\n",
              " 'content',\n",
              " 'description',\n",
              " 'source',\n",
              " 'url',\n",
              " 'urlToImage']"
            ]
          },
          "execution_count": 152,
          "metadata": {},
          "output_type": "execute_result"
        }
      ],
      "source": [
        "colunas = list(arquivo_pd.keys())"
      ]
    },
    {
      "cell_type": "code",
      "execution_count": 161,
      "metadata": {
        "colab": {
          "base_uri": "https://localhost:8080/"
        },
        "id": "Yh1AN2rGV_wW",
        "outputId": "7a5af6a1-f072-4987-f034-bea388c8e6b4"
      },
      "outputs": [
        {
          "name": "stdout",
          "output_type": "stream",
          "text": [
            "total de palavras foi 120.0\n",
            "{'Palavra': 'DNA', 'Contagem': [0, 0, 27, 0.0, 0.0, 0.0, 0, 0, 0, 0, 0, 0, 0, 0, 0, 0, 0, 29, 0, 0, 40, 0, 0, 0, 17, 0, 1, 5.0, 0.0, 1.0]}\n"
          ]
        }
      ],
      "source": [
        "dna = ['dna','Dna','DNA']\n",
        "contagem_palavras = {'Palavra': 'DNA', 'Contagem': []}\n",
        "total = 0\n",
        "for coluna in colunas:\n",
        "  for palavra in dna:\n",
        "    total += arquivo_pd[coluna].str.count(palavra).sum()\n",
        "    contagem_palavras['Contagem'].append(arquivo_pd[coluna].str.count(palavra).sum())\n",
        "\n",
        "print(f'total de palavras foi {total}')\n",
        "print(contagem_palavras)"
      ]
    }
  ],
  "metadata": {
    "colab": {
      "provenance": []
    },
    "kernelspec": {
      "display_name": "Python 3",
      "name": "python3"
    },
    "language_info": {
      "name": "python"
    }
  },
  "nbformat": 4,
  "nbformat_minor": 0
}
